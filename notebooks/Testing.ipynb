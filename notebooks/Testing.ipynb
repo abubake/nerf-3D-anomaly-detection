{
 "cells": [
  {
   "cell_type": "markdown",
   "id": "95b23b50",
   "metadata": {},
   "source": [
    "# NeRF Rendering Testing"
   ]
  },
  {
   "cell_type": "code",
   "execution_count": null,
   "id": "3f2597cc-246d-47b0-a3a2-12ae9aab1b80",
   "metadata": {},
   "outputs": [],
   "source": [
    "import torch\n",
    "import numpy as np\n",
    "import matplotlib.pyplot as plt\n",
    "\n",
    "from dataset import get_rays\n",
    "from rendering import rendering\n",
    "from rendering import render_uncert\n",
    "from ml_helpers import test"
   ]
  },
  {
   "cell_type": "code",
   "execution_count": null,
   "id": "42bd5ed1",
   "metadata": {},
   "outputs": [],
   "source": [
    "device = 'cuda'\n",
    "tn = 1.\n",
    "tf = 10."
   ]
  },
  {
   "cell_type": "code",
   "execution_count": null,
   "id": "498415ee-07d8-4fed-b9b7-e2a17e889f27",
   "metadata": {},
   "outputs": [],
   "source": [
    "test_o, test_d, test_target_px_values = get_rays('datasets/monkey_3_15aug', mode='test')\n",
    "model_full = torch.load('nerf_models/monkey_3_big.pth').to(device)\n",
    "model_aug = torch.load('nerf_models/monkey_3_big_aug.pth').to(device)"
   ]
  },
  {
   "cell_type": "markdown",
   "id": "cdc88bd0",
   "metadata": {},
   "source": [
    "## Render any test image from the dataset"
   ]
  },
  {
   "cell_type": "code",
   "execution_count": null,
   "id": "9aa0672a-332f-43c1-8285-f4d1d63101c4",
   "metadata": {},
   "outputs": [],
   "source": [
    "test_img_idx = 2\n",
    "\n",
    "img, mse, psnr = test(model_full, torch.from_numpy(test_o[test_img_idx]).to(device).float(), torch.from_numpy(test_d[test_img_idx]).to(device).float(),\n",
    "                tn, tf, nb_bins=100, chunk_size=20, target=test_target_px_values[test_img_idx].reshape(400, 400, 3))\n",
    "\n",
    "print(psnr)\n",
    "plt.imshow(img);"
   ]
  },
  {
   "cell_type": "markdown",
   "id": "ed1f5d37",
   "metadata": {},
   "source": []
  }
 ],
 "metadata": {
  "kernelspec": {
   "display_name": "Python 3 (ipykernel)",
   "language": "python",
   "name": "python3"
  },
  "language_info": {
   "codemirror_mode": {
    "name": "ipython",
    "version": 3
   },
   "file_extension": ".py",
   "mimetype": "text/x-python",
   "name": "python",
   "nbconvert_exporter": "python",
   "pygments_lexer": "ipython3",
   "version": "3.11.5"
  }
 },
 "nbformat": 4,
 "nbformat_minor": 5
}

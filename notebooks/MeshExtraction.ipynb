{
 "cells": [
  {
   "cell_type": "markdown",
   "id": "368c9df4",
   "metadata": {},
   "source": [
    "## Mesh Extraction\n",
    "Run the following code to extract a mesh given a .pth file name. Change the pth_file variable to that of the model you would like to create a mesh for."
   ]
  },
  {
   "cell_type": "code",
   "execution_count": null,
   "id": "562733a0-eec1-4cf1-bca7-aa5cc6194e65",
   "metadata": {},
   "outputs": [],
   "source": [
    "import mcubes\n",
    "import trimesh\n",
    "import torch\n",
    "import numpy as np\n",
    "\n",
    "from ml_helpers import load_checkpoint\n",
    "from model import Nerf"
   ]
  },
  {
   "cell_type": "code",
   "execution_count": null,
   "id": "8dd3bd68-6680-447a-8670-bc42ffe3ba4b",
   "metadata": {},
   "outputs": [],
   "source": [
    "device = 'cuda'\n",
    "# pth_file = 'experiments/monkey_3_big_aug/monkey_3_big_aug.pth'\n",
    "pth_file = 'nerf_models/monkey_biz.pth'\n",
    "model = torch.load(pth_file).to(device)\n"
   ]
  },
  {
   "cell_type": "code",
   "execution_count": null,
   "id": "65cba4e6",
   "metadata": {},
   "outputs": [],
   "source": [
    "# OR\n",
    "device = 'cuda'\n",
    "nb_epochs = 5\n",
    "lr = 1e-3\n",
    "gamma = 0.5\n",
    "tn = 1 # these depend on the dataset tf/tn\n",
    "tf = 10\n",
    "nb_bins = 100\n",
    "model_name = 'monkey_3_big_aug'\n",
    "ckpt_name = '/ckpt100.pth'\n",
    "checkpoint_path = 'experiments/'+model_name\n",
    "\n",
    "model = Nerf(hidden_dim=256).to(device)\n",
    "optimizer = torch.optim.Adam(model.parameters(),lr=lr)\n",
    "# Every 5 epochs/images in online learning case, we multiply the learning rate by gamma (1/2)\n",
    "scheduler = torch.optim.lr_scheduler.MultiStepLR(optimizer, milestones=[5,10],gamma=gamma)\n",
    "\n",
    "ckpt_file = load_checkpoint(checkpoint_path+ckpt_name, model, optimizer, scheduler)"
   ]
  },
  {
   "cell_type": "code",
   "execution_count": null,
   "id": "91114a96",
   "metadata": {},
   "outputs": [],
   "source": [
    "\n",
    "model.load_state_dict(ckpt_file['model_state_dict'])\n",
    "optimizer.load_state_dict(ckpt_file['optimizer_state_dict'])\n",
    "model.eval();\n"
   ]
  },
  {
   "cell_type": "code",
   "execution_count": null,
   "id": "bd03a690-2e5b-428b-8a89-df3d30a31f60",
   "metadata": {},
   "outputs": [],
   "source": [
    "N = 100\n",
    "scale = 2.5\n",
    "\n",
    "x = torch.linspace(-scale, scale, N)\n",
    "y = torch.linspace(-scale, scale, N)\n",
    "z = torch.linspace(-scale, scale, N)\n",
    "\n",
    "x, y, z = torch.meshgrid((x, y, z))\n",
    "\n",
    "xyz = torch.cat((x.reshape(-1, 1),\n",
    "                 y.reshape(-1, 1),\n",
    "                 z.reshape(-1, 1)), dim=1)"
   ]
  },
  {
   "cell_type": "code",
   "execution_count": null,
   "id": "d873be00-d213-4b47-8bb2-db6c2b0cb65a",
   "metadata": {},
   "outputs": [],
   "source": [
    "with torch.no_grad():\n",
    "    _, density = model.forward(xyz.to(device), torch.zeros_like(xyz).to(device))\n",
    "    \n",
    "density = density.cpu().numpy().reshape(N, N, N)"
   ]
  },
  {
   "cell_type": "code",
   "execution_count": null,
   "id": "36714361-7c85-4b56-8810-52699b6ddee1",
   "metadata": {},
   "outputs": [],
   "source": [
    "vertices, triangles = mcubes.marching_cubes(density, 10 * np.mean(density))\n",
    "mesh = trimesh.Trimesh(vertices / N, triangles)\n",
    "mesh.show()"
   ]
  },
  {
   "cell_type": "code",
   "execution_count": null,
   "id": "0b2d61e6",
   "metadata": {},
   "outputs": [],
   "source": [
    "# Convert the mesh to a point cloud\n",
    "point_cloud = trimesh.points.PointCloud(vertices=vertices)\n"
   ]
  },
  {
   "cell_type": "code",
   "execution_count": null,
   "id": "7b36a298",
   "metadata": {},
   "outputs": [],
   "source": [
    "point_cloud.export('Clouds/coral_new.ply')"
   ]
  }
 ],
 "metadata": {
  "kernelspec": {
   "display_name": "Python 3 (ipykernel)",
   "language": "python",
   "name": "python3"
  },
  "language_info": {
   "codemirror_mode": {
    "name": "ipython",
    "version": 3
   },
   "file_extension": ".py",
   "mimetype": "text/x-python",
   "name": "python",
   "nbconvert_exporter": "python",
   "pygments_lexer": "ipython3",
   "version": "3.11.5"
  }
 },
 "nbformat": 4,
 "nbformat_minor": 5
}

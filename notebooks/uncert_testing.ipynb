{
 "cells": [
  {
   "cell_type": "markdown",
   "metadata": {},
   "source": [
    "# Rendering Uncertainty Test"
   ]
  },
  {
   "cell_type": "code",
   "execution_count": null,
   "metadata": {},
   "outputs": [],
   "source": [
    "import torch\n",
    "import numpy as np\n",
    "import matplotlib.pyplot as plt\n",
    "\n",
    "from dataset import get_rays\n",
    "from rendering import render_uncert\n",
    "from ml_helpers import test_uncert"
   ]
  },
  {
   "cell_type": "code",
   "execution_count": null,
   "metadata": {},
   "outputs": [],
   "source": [
    "device = 'cuda'\n",
    "tn = 1\n",
    "tf = 10\n",
    "test_o, test_d, test_target_px_values = get_rays('datasets/monkey_3_15aug', mode='test')\n",
    "model_full = torch.load('nerf_models/monkey_3_big.pth').to(device)\n",
    "model_aug = torch.load('nerf_models/monkey_3_big_aug.pth').to(device)"
   ]
  },
  {
   "cell_type": "markdown",
   "metadata": {},
   "source": [
    "### Find the entropy of all pixels in the image"
   ]
  },
  {
   "cell_type": "code",
   "execution_count": null,
   "metadata": {},
   "outputs": [],
   "source": [
    "\n",
    "test_img_idx = 2\n",
    "\n",
    "img, mse, psnr = test_uncert(model_full, torch.from_numpy(test_o[test_img_idx]).to(device).float(), torch.from_numpy(test_d[test_img_idx]).to(device).float(),\n",
    "                tn, tf, nb_bins=100, chunk_size=20, target=test_target_px_values[test_img_idx].reshape(400, 400, 3))\n",
    "\n",
    "plt.imshow(img,cmap='inferno')\n",
    "plt.colorbar();"
   ]
  },
  {
   "cell_type": "code",
   "execution_count": null,
   "metadata": {},
   "outputs": [],
   "source": [
    "def compute_view_entropy(uncert_img):\n",
    "    \n",
    "    '''Compute total entropy of a view/rendered image'''\n",
    "\n",
    "    uncert = uncert_img.reshape(-1,1)\n",
    "    view_entropy = 0.0\n",
    "    for i in range(len(uncert)):\n",
    "        view_entropy += uncert[i]\n",
    "    return view_entropy\n",
    "    \n",
    "compute_view_entropy(img)"
   ]
  },
  {
   "cell_type": "markdown",
   "metadata": {},
   "source": [
    "### Compare entropy of an object between two trained nerfs at specific views\n",
    "Note: Mask is currently made based upon color, specifically dark pink (like in the monkey datasets). Please change to suit your needs."
   ]
  },
  {
   "cell_type": "code",
   "execution_count": null,
   "metadata": {},
   "outputs": [],
   "source": [
    "test_img_idx = 3\n",
    "import cv2\n",
    "\n",
    "img_aug, mse, psnr = test_uncert(model_aug, torch.from_numpy(test_o[test_img_idx]).to(device).float(), torch.from_numpy(test_d[test_img_idx]).to(device).float(),\n",
    "                tn, tf, nb_bins=150, chunk_size=20, target=test_target_px_values[test_img_idx].reshape(400, 400, 3))\n",
    "\n",
    "img_full, mse, psnr = test_uncert(model_full, torch.from_numpy(test_o[test_img_idx]).to(device).float(), torch.from_numpy(test_d[test_img_idx]).to(device).float(),\n",
    "                tn, tf, nb_bins=150, chunk_size=20, target=test_target_px_values[test_img_idx].reshape(400, 400, 3))\n",
    "\n",
    "image = test_target_px_values[test_img_idx].reshape(400, 400, 3)\n",
    " # Check the image depth\n",
    "if image.dtype == np.float64:\n",
    "    print(\"Converting from float64 to uint8.\")\n",
    "    # Normalize the image to 0-255 and convert to uint8\n",
    "    image = cv2.normalize(image, None, 0, 255, cv2.NORM_MINMAX).astype(np.uint8)\n",
    "elif image.dtype == np.float32:\n",
    "    print(\"Converting from float32 to uint8.\")\n",
    "    # Normalize the image to 0-255 and convert to uint8\n",
    "    image = cv2.normalize(image, None, 0, 255, cv2.NORM_MINMAX).astype(np.uint8)\n",
    "elif image.dtype == np.uint16:\n",
    "    print(\"Converting from uint16 to uint8.\")\n",
    "    # Normalize the image to 0-255 and convert to uint8\n",
    "    image = (image / 256).astype(np.uint8)\n",
    "\n",
    "img_hsv = cv2.cvtColor(image, cv2.COLOR_BGR2HSV)\n",
    "lower_dark_pink = np.array([130, 50, 50])\n",
    "upper_dark_pink = np.array([170, 255, 255])\n",
    "\n",
    "# Create a mask for the dark pink color\n",
    "mask = cv2.inRange(img_hsv, lower_dark_pink, upper_dark_pink)\n",
    "img_aug = cv2.bitwise_and(img_aug, img_aug, mask=mask)\n",
    "img_full = cv2.bitwise_and(img_full, img_full, mask=mask)\n",
    "\n",
    "plt.imshow(mask, cmap='gray')\n",
    "diff = img_aug - img_full\n",
    "\n",
    "# Create a figure object\n",
    "fig, (ax1, ax2) = plt.subplots(1, 2, figsize=(10, 5))\n",
    "\n",
    "im1 = ax1.imshow(test_target_px_values[test_img_idx].reshape(400, 400, 3))\n",
    "ax1.set_title('Ground truth image')\n",
    "im2 = ax2.imshow(diff, cmap='inferno',vmin=0, vmax=3) # was .5 to 1\n",
    "ax2.set_title('Entropy difference')\n",
    "fig.colorbar(im2, ax=ax2);"
   ]
  },
  {
   "cell_type": "markdown",
   "metadata": {},
   "source": [
    "# Compare entropy for N images\n",
    "Generates figures for comparison of entropy between trained nerf models."
   ]
  },
  {
   "cell_type": "code",
   "execution_count": null,
   "metadata": {},
   "outputs": [],
   "source": [
    "import os\n",
    "import numpy as np\n",
    "import torch\n",
    "import matplotlib.pyplot as plt\n",
    "from matplotlib.image import imread\n",
    "import cv2\n",
    "\n",
    "# Create the output directory if it doesn't exist\n",
    "output_dir = 'output_change_figures/monkey_big_4'\n",
    "os.makedirs(output_dir, exist_ok=True)\n",
    "\n",
    "# Assuming test_img_idx's range from 0 to 9\n",
    "for test_img_idx in range(10):\n",
    "    img_aug, mse, psnr = test_uncert(model_aug, torch.from_numpy(test_o[test_img_idx]).to(device).float(), torch.from_numpy(test_d[test_img_idx]).to(device).float(),\n",
    "                    tn, tf, nb_bins=150, chunk_size=20, target=test_target_px_values[test_img_idx].reshape(400, 400, 3))\n",
    "\n",
    "    img_full, mse, psnr = test_uncert(model_full, torch.from_numpy(test_o[test_img_idx]).to(device).float(), torch.from_numpy(test_d[test_img_idx]).to(device).float(),\n",
    "                    tn, tf, nb_bins=150, chunk_size=20, target=test_target_px_values[test_img_idx].reshape(400, 400, 3))\n",
    "    \n",
    "\n",
    "    image = test_target_px_values[test_img_idx].reshape(400, 400, 3)\n",
    "    # Check the image depth\n",
    "    if image.dtype == np.float64:\n",
    "        print(\"Converting from float64 to uint8.\")\n",
    "        # Normalize the image to 0-255 and convert to uint8\n",
    "        image = cv2.normalize(image, None, 0, 255, cv2.NORM_MINMAX).astype(np.uint8)\n",
    "    elif image.dtype == np.float32:\n",
    "        print(\"Converting from float32 to uint8.\")\n",
    "        # Normalize the image to 0-255 and convert to uint8\n",
    "        image = cv2.normalize(image, None, 0, 255, cv2.NORM_MINMAX).astype(np.uint8)\n",
    "    elif image.dtype == np.uint16:\n",
    "        print(\"Converting from uint16 to uint8.\")\n",
    "        # Normalize the image to 0-255 and convert to uint8\n",
    "        image = (image / 256).astype(np.uint8)\n",
    "\n",
    "    img_hsv = cv2.cvtColor(image, cv2.COLOR_BGR2HSV)\n",
    "    lower_dark_pink = np.array([130, 50, 50])\n",
    "    upper_dark_pink = np.array([170, 255, 255])\n",
    "\n",
    "    # Create a mask for the dark pink color\n",
    "    mask = cv2.inRange(img_hsv, lower_dark_pink, upper_dark_pink)\n",
    "    img_aug = cv2.bitwise_and(img_aug, img_aug, mask=mask)\n",
    "    img_full = cv2.bitwise_and(img_full, img_full, mask=mask)\n",
    "\n",
    "\n",
    "    # Subtract images\n",
    "    diff = cv2.subtract(img_aug, img_full)\n",
    "\n",
    "    # Create a figure object\n",
    "    fig, (ax1, ax2, ax3) = plt.subplots(1, 3, figsize=(15, 5))\n",
    "\n",
    "    im1 = ax1.imshow(test_target_px_values[test_img_idx].reshape(400, 400, 3))\n",
    "    ax1.set_title('Ground truth image')\n",
    "\n",
    "    im2 = ax2.imshow(diff, cmap='inferno', vmin=0, vmax=2.5) # was .5 to 1\n",
    "    ax2.set_title('Entropy difference')\n",
    "    fig.colorbar(im2, ax=ax2)\n",
    "    \n",
    "    third_plot_img = imread('figures/anomaly.png')\n",
    "    im3 = ax3.imshow(third_plot_img)\n",
    "    ax3.set_title('Anomaly view for comparison')\n",
    "    ax3.axis('off')\n",
    "\n",
    "    # Save the figure\n",
    "    plt.savefig(os.path.join(output_dir, f'image_{test_img_idx}.png'))\n",
    "    plt.close(fig)  # Close the figure to free up memory\n",
    "\n",
    "print(\"Images saved successfully.\")\n"
   ]
  }
 ],
 "metadata": {
  "kernelspec": {
   "display_name": "base",
   "language": "python",
   "name": "python3"
  },
  "language_info": {
   "codemirror_mode": {
    "name": "ipython",
    "version": 3
   },
   "file_extension": ".py",
   "mimetype": "text/x-python",
   "name": "python",
   "nbconvert_exporter": "python",
   "pygments_lexer": "ipython3",
   "version": "3.1.-1"
  }
 },
 "nbformat": 4,
 "nbformat_minor": 2
}

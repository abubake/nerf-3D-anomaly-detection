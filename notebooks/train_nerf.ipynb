{
 "cells": [
  {
   "cell_type": "markdown",
   "id": "1581a8f5",
   "metadata": {},
   "source": [
    "# NeRF Training\n",
    "Change the data folder and model name for your custom model"
   ]
  },
  {
   "cell_type": "code",
   "execution_count": null,
   "id": "257860de-71ad-4386-88bd-fc945e3bc256",
   "metadata": {},
   "outputs": [],
   "source": [
    "import torch\n",
    "import matplotlib.pyplot as plt\n",
    "from torch.utils.data import DataLoader\n",
    "from dataset import get_rays\n",
    "from model import Nerf\n",
    "from ml_helpers import training"
   ]
  },
  {
   "cell_type": "code",
   "execution_count": null,
   "id": "c69647b0",
   "metadata": {},
   "outputs": [],
   "source": [
    "batch_size = 1024 # how many rays to use per batch. More rays means more GPU needed\n",
    "height = 400 # image height\n",
    "width = 400 # image width\n",
    "imgs = 315 # ammount of images used for TRAINING in the dataset being used\n",
    "dataset_path = 'datasets/monkey_3_big_aug'\n",
    "pth_file = 'nerf_models/monkey_3_big_aug.pth' # choose a name for your output model file!"
   ]
  },
  {
   "cell_type": "markdown",
   "id": "a4378676",
   "metadata": {},
   "source": [
    "## Calculate rays from pose data\n",
    "Find ray origins and directions for training and test data. This is done using the focal length for each camera pose, and the rotation and position of each camera pose data."
   ]
  },
  {
   "cell_type": "code",
   "execution_count": null,
   "id": "66e62ab8-9524-48b6-a646-01b27c9a3fd6",
   "metadata": {},
   "outputs": [],
   "source": [
    "o, d, target_px_values = get_rays(dataset_path, mode='train')\n",
    "\n",
    "dataloader = DataLoader(torch.cat((torch.from_numpy(o).reshape(-1, 3).type(torch.float),\n",
    "                                   torch.from_numpy(d).reshape(-1, 3).type(torch.float),\n",
    "                                   torch.from_numpy(target_px_values).reshape(-1, 3).type(torch.float)), dim=1),\n",
    "                       batch_size=batch_size, shuffle=True)\n",
    "\n",
    "\n",
    "dataloader_warmup = DataLoader(torch.cat((torch.from_numpy(o).reshape(imgs, height, width, 3)[:, 100:300, 100:300, :].reshape(-1, 3).type(torch.float),\n",
    "                               torch.from_numpy(d).reshape(imgs, height, width, 3)[:, 100:300, 100:300, :].reshape(-1, 3).type(torch.float),\n",
    "                               torch.from_numpy(target_px_values).reshape(imgs, height, width, 3)[:, 100:300, 100:300, :].reshape(-1, 3).type(torch.float)), dim=1),\n",
    "                       batch_size=batch_size, shuffle=True)\n",
    "\n",
    "\n",
    "#test_o, test_d, test_target_px_values = get_rays(dataset_path, mode='test')"
   ]
  },
  {
   "cell_type": "markdown",
   "id": "bbcc6284-ff38-4a9d-a914-7cd8ff9163fb",
   "metadata": {},
   "source": [
    "## Model Training\n",
    "Adjust/tune hyperparameters as needed below."
   ]
  },
  {
   "cell_type": "code",
   "execution_count": null,
   "id": "edd96eec-e258-469d-8781-da1dc2bd1ca6",
   "metadata": {},
   "outputs": [],
   "source": [
    "device = 'cuda'\n",
    "\n",
    "tn = 1.\n",
    "tf = 10.\n",
    "nb_epochs = 10\n",
    "lr = 1e-3\n",
    "gamma = .5\n",
    "nb_bins = 100\n",
    "\n",
    "model = Nerf(hidden_dim=256).to(device)\n",
    "optimizer = torch.optim.Adam(model.parameters(), lr=lr)\n",
    "scheduler = torch.optim.lr_scheduler.MultiStepLR(optimizer, milestones=[5, 10], gamma=gamma)\n",
    "\n",
    "training_loss = training(model, optimizer, scheduler, tn, tf, nb_bins, 1, dataloader_warmup, model_name=pth_file, device=device)\n",
    "plt.plot(training_loss)\n",
    "plt.show()\n",
    "training_loss = training(model, optimizer, scheduler, tn, tf, nb_bins, nb_epochs, dataloader, model_name=pth_file, device=device)\n",
    "plt.plot(training_loss)\n",
    "plt.show()"
   ]
  }
 ],
 "metadata": {
  "kernelspec": {
   "display_name": "Python 3 (ipykernel)",
   "language": "python",
   "name": "python3"
  },
  "language_info": {
   "codemirror_mode": {
    "name": "ipython",
    "version": 3
   },
   "file_extension": ".py",
   "mimetype": "text/x-python",
   "name": "python",
   "nbconvert_exporter": "python",
   "pygments_lexer": "ipython3",
   "version": "3.1.-1"
  }
 },
 "nbformat": 4,
 "nbformat_minor": 5
}

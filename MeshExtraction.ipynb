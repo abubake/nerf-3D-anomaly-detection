{
 "cells": [
  {
   "cell_type": "markdown",
   "id": "368c9df4",
   "metadata": {},
   "source": [
    "## Mesh Extraction\n",
    "Run the following code to extract a mesh given a .pth file name. Change the pth_file variable to that of the model you would like to create a mesh for."
   ]
  },
  {
   "cell_type": "code",
   "execution_count": 1,
   "id": "562733a0-eec1-4cf1-bca7-aa5cc6194e65",
   "metadata": {},
   "outputs": [
    {
     "ename": "ValueError",
     "evalue": "numpy.dtype size changed, may indicate binary incompatibility. Expected 96 from C header, got 88 from PyObject",
     "output_type": "error",
     "traceback": [
      "\u001b[0;31m---------------------------------------------------------------------------\u001b[0m",
      "\u001b[0;31mValueError\u001b[0m                                Traceback (most recent call last)",
      "Cell \u001b[0;32mIn[1], line 1\u001b[0m\n\u001b[0;32m----> 1\u001b[0m \u001b[38;5;28;01mimport\u001b[39;00m \u001b[38;5;21;01mmcubes\u001b[39;00m\n\u001b[1;32m      2\u001b[0m \u001b[38;5;28;01mimport\u001b[39;00m \u001b[38;5;21;01mtrimesh\u001b[39;00m\n\u001b[1;32m      3\u001b[0m \u001b[38;5;28;01mimport\u001b[39;00m \u001b[38;5;21;01mtorch\u001b[39;00m\n",
      "File \u001b[0;32m~/anaconda3/envs/nerf3Dchange/lib/python3.12/site-packages/mcubes/__init__.py:2\u001b[0m\n\u001b[0;32m----> 2\u001b[0m \u001b[38;5;28;01mfrom\u001b[39;00m \u001b[38;5;21;01m.\u001b[39;00m\u001b[38;5;21;01m_mcubes\u001b[39;00m \u001b[38;5;28;01mimport\u001b[39;00m marching_cubes, marching_cubes_func\n\u001b[1;32m      3\u001b[0m \u001b[38;5;28;01mfrom\u001b[39;00m \u001b[38;5;21;01m.\u001b[39;00m\u001b[38;5;21;01mexporter\u001b[39;00m \u001b[38;5;28;01mimport\u001b[39;00m export_mesh, export_obj, export_off\n\u001b[1;32m      4\u001b[0m \u001b[38;5;28;01mfrom\u001b[39;00m \u001b[38;5;21;01m.\u001b[39;00m\u001b[38;5;21;01msmoothing\u001b[39;00m \u001b[38;5;28;01mimport\u001b[39;00m smooth, smooth_constrained, smooth_gaussian\n",
      "File \u001b[0;32mmcubes/src/_mcubes.pyx:2\u001b[0m, in \u001b[0;36minit mcubes._mcubes\u001b[0;34m()\u001b[0m\n",
      "\u001b[0;31mValueError\u001b[0m: numpy.dtype size changed, may indicate binary incompatibility. Expected 96 from C header, got 88 from PyObject"
     ]
    }
   ],
   "source": [
    "import mcubes\n",
    "import trimesh\n",
    "import torch\n",
    "import open3d as o3d\n",
    "import numpy as np\n",
    "\n",
    "import evaluate as eval\n",
    "\n",
    "from ml_helpers import load_checkpoint\n",
    "from model import Nerf"
   ]
  },
  {
   "cell_type": "code",
   "execution_count": null,
   "id": "8dd3bd68-6680-447a-8670-bc42ffe3ba4b",
   "metadata": {},
   "outputs": [],
   "source": [
    "device = 'cuda'\n",
    "pth_file = 'pigeye.pth'\n",
    "#pth_file = 'experiments/monkey_3_15aug_2/models/M9.pth'\n",
    "model = torch.load(pth_file).to(device)\n"
   ]
  },
  {
   "cell_type": "code",
   "execution_count": null,
   "id": "65cba4e6",
   "metadata": {},
   "outputs": [],
   "source": [
    "# # OR\n",
    "# device = 'cuda'\n",
    "# nb_epochs = 5\n",
    "# lr = 1e-3\n",
    "# gamma = 0.5\n",
    "# tn = 1 # these depend on the dataset tf/tn\n",
    "# tf = 10\n",
    "# nb_bins = 100\n",
    "# model_name = 'monkey_3_big_aug'\n",
    "# ckpt_name = '/ckpt100.pth'\n",
    "# checkpoint_path = 'experiments/'+model_name\n",
    "\n",
    "# model = Nerf(hidden_dim=256).to(device)\n",
    "# optimizer = torch.optim.Adam(model.parameters(),lr=lr)\n",
    "# # Every 5 epochs/images in online learning case, we multiply the learning rate by gamma (1/2)\n",
    "# scheduler = torch.optim.lr_scheduler.MultiStepLR(optimizer, milestones=[5,10],gamma=gamma)\n",
    "\n",
    "# ckpt_file = load_checkpoint(checkpoint_path+ckpt_name, model, optimizer, scheduler)"
   ]
  },
  {
   "cell_type": "code",
   "execution_count": null,
   "id": "91114a96",
   "metadata": {},
   "outputs": [],
   "source": [
    "\n",
    "# model.load_state_dict(ckpt_file['model_state_dict'])\n",
    "# optimizer.load_state_dict(ckpt_file['optimizer_state_dict'])\n",
    "# model.eval();\n"
   ]
  },
  {
   "cell_type": "code",
   "execution_count": null,
   "id": "bd03a690-2e5b-428b-8a89-df3d30a31f60",
   "metadata": {},
   "outputs": [],
   "source": [
    "N = 100\n",
    "scale = 1.5\n",
    "\n",
    "x = torch.linspace(-scale, scale, N)\n",
    "y = torch.linspace(-scale, scale, N)\n",
    "z = torch.linspace(-scale, scale, N)\n",
    "\n",
    "x, y, z = torch.meshgrid((x, y, z))\n",
    "\n",
    "xyz = torch.cat((x.reshape(-1, 1),\n",
    "                 y.reshape(-1, 1),\n",
    "                 z.reshape(-1, 1)), dim=1)"
   ]
  },
  {
   "cell_type": "code",
   "execution_count": null,
   "id": "d873be00-d213-4b47-8bb2-db6c2b0cb65a",
   "metadata": {},
   "outputs": [],
   "source": [
    "with torch.no_grad():\n",
    "    _, density = model.forward(xyz.to(device), torch.zeros_like(xyz).to(device))\n",
    "    \n",
    "density = density.cpu().numpy().reshape(N, N, N)"
   ]
  },
  {
   "cell_type": "code",
   "execution_count": null,
   "id": "36714361-7c85-4b56-8810-52699b6ddee1",
   "metadata": {},
   "outputs": [],
   "source": [
    "vertices, triangles = mcubes.marching_cubes(density, 10 * np.mean(density))\n",
    "mesh = trimesh.Trimesh(vertices / N, triangles)\n",
    "mesh.show()"
   ]
  },
  {
   "cell_type": "code",
   "execution_count": null,
   "id": "6d8123f1",
   "metadata": {},
   "outputs": [],
   "source": [
    "import numpy as np\n",
    "import pyvista as pv\n",
    "#pv.set_jupyter_backend('client')\n",
    "\n",
    "# Example: Assuming sample_variance is a 100x100x100 ndarray and threshold is the threshold scalar value\n",
    "\n",
    "# Set a threshold scalar value\n",
    "threshold = 5  # Example threshold value\n",
    "\n",
    "# # Find the coordinates of points above the threshold\n",
    "above_threshold_mask = density > threshold\n",
    "x_coords, y_coords, z_coords = np.where(above_threshold_mask)\n",
    "\n",
    "# Extract the values of points above the threshold\n",
    "values = density[above_threshold_mask]\n",
    "np.save('monkey_mask.npy', (x_coords, y_coords, z_coords))\n",
    "\n",
    "\n",
    "# Create a PyVista Plotter\n",
    "plotter = pv.Plotter(title=\"Densities\")\n",
    "\n",
    "# Add the points to the plotter\n",
    "plotter.add_points(np.column_stack((x_coords, y_coords, z_coords)), scalars=values, cmap=\"inferno\")\n",
    "\n",
    "# Show the plotter window\n",
    "plotter.show()"
   ]
  },
  {
   "cell_type": "code",
   "execution_count": null,
   "id": "4967dbe6",
   "metadata": {},
   "outputs": [],
   "source": []
  },
  {
   "cell_type": "code",
   "execution_count": null,
   "id": "0b2d61e6",
   "metadata": {},
   "outputs": [],
   "source": [
    "# # Convert the mesh to a point cloud\n",
    "# point_cloud = trimesh.points.PointCloud(vertices=vertices)\n"
   ]
  },
  {
   "cell_type": "code",
   "execution_count": null,
   "id": "7b36a298",
   "metadata": {},
   "outputs": [],
   "source": [
    "# point_cloud.export('Clouds/coral_new.ply')"
   ]
  }
 ],
 "metadata": {
  "kernelspec": {
   "display_name": "Python 3 (ipykernel)",
   "language": "python",
   "name": "python3"
  },
  "language_info": {
   "codemirror_mode": {
    "name": "ipython",
    "version": 3
   },
   "file_extension": ".py",
   "mimetype": "text/x-python",
   "name": "python",
   "nbconvert_exporter": "python",
   "pygments_lexer": "ipython3",
   "version": "3.12.3"
  }
 },
 "nbformat": 4,
 "nbformat_minor": 5
}

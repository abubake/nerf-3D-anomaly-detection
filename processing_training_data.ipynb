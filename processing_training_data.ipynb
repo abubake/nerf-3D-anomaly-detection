{
 "cells": [
  {
   "cell_type": "markdown",
   "metadata": {},
   "source": [
    "# Generating folder of training and test data"
   ]
  },
  {
   "cell_type": "markdown",
   "metadata": {},
   "source": [
    "Once data has been generated in omniverse code or blender, ensure the images and poses are not within additional files, but are directly in the folder specified in the data_dir. For example, in folder datasets/exData/ we have all the images and a json file for the poses to be processed in the case of using blender."
   ]
  },
  {
   "cell_type": "markdown",
   "metadata": {},
   "source": [
    "Simply change the folder_name variable to that of your folder"
   ]
  },
  {
   "cell_type": "code",
   "execution_count": 1,
   "metadata": {},
   "outputs": [],
   "source": [
    "from datagen import generate_data\n",
    "# from datagen import sort_and_name_images\n",
    "# from datagen import blender_pose_and_intrinsics\n",
    "# from datagen import seperate_training_and_test_pose_and_intrinsics"
   ]
  },
  {
   "cell_type": "code",
   "execution_count": 7,
   "metadata": {},
   "outputs": [],
   "source": [
    "folder_name = 'data/test_missing'\n",
    "#data_dir = '/home/eherrin@ad.ufl.edu/code/gitlab_dev/nerf-3D-change/' + folder_name\n",
    "data_dir = f\"data/test_missing\"\n",
    "data_dir = \"/home/eherrin@ad.ufl.edu/code/gitlab_dev/nerf-3D-change/data/test_missing\""
   ]
  },
  {
   "cell_type": "code",
   "execution_count": 9,
   "metadata": {},
   "outputs": [
    {
     "data": {
      "text/plain": [
       "0"
      ]
     },
     "execution_count": 9,
     "metadata": {},
     "output_type": "execute_result"
    }
   ],
   "source": [
    "# assumes image is square\n",
    "generate_data(using_blender=True, training_split=1.0, img_folder=\"imgs\", \n",
    "              focal=120, width=400, project_data_dir=data_dir)"
   ]
  }
 ],
 "metadata": {
  "kernelspec": {
   "display_name": "Python 3",
   "language": "python",
   "name": "python3"
  },
  "language_info": {
   "codemirror_mode": {
    "name": "ipython",
    "version": 3
   },
   "file_extension": ".py",
   "mimetype": "text/x-python",
   "name": "python",
   "nbconvert_exporter": "python",
   "pygments_lexer": "ipython3",
   "version": "3.12.3"
  }
 },
 "nbformat": 4,
 "nbformat_minor": 2
}

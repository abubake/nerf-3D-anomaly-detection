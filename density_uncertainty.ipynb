{
 "cells": [
  {
   "cell_type": "code",
   "execution_count": null,
   "metadata": {},
   "outputs": [],
   "source": [
    "# imports\n",
    "import torch\n",
    "import numpy as np\n",
    "import pyvista as pv\n",
    "from tools import load_experiment_models\n",
    "from tools import uncertainty_plot"
   ]
  },
  {
   "cell_type": "code",
   "execution_count": null,
   "metadata": {},
   "outputs": [],
   "source": [
    "# Example usage:\n",
    "device='cuda'\n",
    "config_path = 'configs/experiment2.conf'  # Path to the config file\n",
    "\n",
    "# Load the models for the specified experiment\n",
    "models = load_experiment_models(config_path, device=device)"
   ]
  },
  {
   "cell_type": "code",
   "execution_count": null,
   "metadata": {},
   "outputs": [],
   "source": [
    "# extracting the densities\n",
    "N = 100\n",
    "scale = 1.5\n",
    "\n",
    "x = torch.linspace(-scale, scale, N)\n",
    "y = torch.linspace(-scale, scale, N)\n",
    "z = torch.linspace(-scale, scale, N)\n",
    "\n",
    "x, y, z = torch.meshgrid((x, y, z))\n",
    "\n",
    "xyz = torch.cat((x.reshape(-1, 1),\n",
    "                 y.reshape(-1, 1),\n",
    "                 z.reshape(-1, 1)), dim=1)"
   ]
  },
  {
   "cell_type": "code",
   "execution_count": null,
   "metadata": {},
   "outputs": [],
   "source": [
    "# arithmetic mean of each point (x,y,z) in our 3D grid\n",
    "densities = []\n",
    "for model in models:\n",
    "\n",
    "    with torch.no_grad():\n",
    "        _, density = model.forward(xyz.to(device), torch.zeros_like(xyz).to(device))\n",
    "    \n",
    "    #density = density.cpu().numpy().reshape(N, N, N)\n",
    "    density = density.view(N, N, N)\n",
    "    densities.append(density)\n",
    "\n",
    "densities_tensor = torch.stack(densities)\n",
    "mean_density = torch.mean(densities_tensor, dim=0) # calculates the arithmetic mean for every point"
   ]
  },
  {
   "cell_type": "code",
   "execution_count": null,
   "metadata": {},
   "outputs": [],
   "source": [
    "# for all densities across the 7 models, substract the model density from the mean\n",
    "squared_diffs = []\n",
    "\n",
    "for model_density in densities: # for each model, subtact the mean density from each element.\n",
    "\n",
    "    squared_diffs.append(torch.square(torch.sub(model_density, mean_density))) # squared diffference for all points\n",
    "\n",
    "tensor_sum = torch.sum(torch.stack(squared_diffs), dim=0)\n",
    "divisor = len(models) - 1\n",
    "sample_variance = torch.div(tensor_sum, divisor)\n",
    "coeff_variation = torch.div(torch.sqrt(sample_variance), mean_density)"
   ]
  },
  {
   "cell_type": "code",
   "execution_count": null,
   "metadata": {},
   "outputs": [],
   "source": [
    "coeff_variation = coeff_variation.cpu().numpy().reshape(N, N, N)\n",
    "sample_variance = sample_variance.cpu().numpy().reshape(N, N, N)\n",
    "sf_mean_density = mean_density.cpu().numpy().reshape(N, N, N)"
   ]
  },
  {
   "cell_type": "code",
   "execution_count": null,
   "metadata": {},
   "outputs": [],
   "source": [
    "pts, values = uncertainty_plot(scalar_field = sf_mean_density, scalars=None, pts=None, threshold=10)"
   ]
  },
  {
   "cell_type": "code",
   "execution_count": null,
   "metadata": {},
   "outputs": [],
   "source": [
    "from scipy.spatial import KDTree\n",
    "\n",
    "# Note: neighbor idx returns the index in the array of all pts of the neighbors.\n",
    "map_tree = KDTree(pts)\n",
    "neighbor_idx = map_tree.query_ball_point(x=pts, r=4) # returns list of indices of neighbors of x"
   ]
  },
  {
   "cell_type": "code",
   "execution_count": null,
   "metadata": {},
   "outputs": [],
   "source": [
    "CoV = [] # list of coefficent of variation for each point based on variation of neighbor densities\n",
    "for i in range(len(neighbor_idx)):\n",
    "    neighbors = neighbor_idx[i] # [len(neighbors of that point)]\n",
    "\n",
    "    surrounding_densities = [] # reinit list of neighbor for each point in the nerf\n",
    "    for j in range(len(neighbors)):\n",
    "        surrounding_densities.append(values[neighbors[j]]) # [n] densitity at each index in neighbors\n",
    "\n",
    "    densities_tensor = torch.Tensor(surrounding_densities)\n",
    "    mean_density = torch.mean(densities_tensor, dim=0) # calculates the arithmetic mean for every point\n",
    "\n",
    "    squared_diffs = []\n",
    "    for d in densities_tensor: # for each point, subtact the mean density from each element.\n",
    "\n",
    "        squared_diffs.append(torch.square(torch.sub(d, mean_density))) # squared diffference for all points\n",
    "    \n",
    "    tensor_sum = torch.sum(torch.stack(squared_diffs), dim=0)\n",
    "    divisor = len(models) - 1\n",
    "    sample_variance = torch.div(tensor_sum, divisor)\n",
    "    coeff_variation = torch.div(torch.sqrt(sample_variance), mean_density)\n",
    "    CoV.append(coeff_variation)\n",
    "    "
   ]
  },
  {
   "cell_type": "code",
   "execution_count": null,
   "metadata": {},
   "outputs": [],
   "source": [
    "uncertainty_plot(scalar_field=None, scalars=np.array(CoV), pts=pts, threshold=3.5)"
   ]
  },
  {
   "cell_type": "code",
   "execution_count": null,
   "metadata": {},
   "outputs": [],
   "source": [
    "object_mask = np.load('monkey_mask.npy') # [3,len(points)]\n",
    "x_coords, y_coords, z_coords = object_mask\n",
    "mask_pts = np.stack((x_coords, y_coords, z_coords), axis=-1)"
   ]
  },
  {
   "cell_type": "code",
   "execution_count": null,
   "metadata": {},
   "outputs": [],
   "source": [
    "uncertainty_plot(scalar_field=None, scalars=np.array(CoV), pts=mask_pts, threshold=3.5)"
   ]
  }
 ],
 "metadata": {
  "kernelspec": {
   "display_name": "nerf3Dchange",
   "language": "python",
   "name": "python3"
  },
  "language_info": {
   "codemirror_mode": {
    "name": "ipython",
    "version": 3
   },
   "file_extension": ".py",
   "mimetype": "text/x-python",
   "name": "python",
   "nbconvert_exporter": "python",
   "pygments_lexer": "ipython3",
   "version": "3.1.undefined"
  }
 },
 "nbformat": 4,
 "nbformat_minor": 2
}

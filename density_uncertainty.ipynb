{
 "cells": [
  {
   "cell_type": "code",
   "execution_count": 1,
   "metadata": {},
   "outputs": [],
   "source": [
    "# imports\n",
    "import torch\n",
    "import numpy as np\n",
    "from tools import load_experiment_models\n",
    "from tools import uncertainty_plot"
   ]
  },
  {
   "cell_type": "code",
   "execution_count": 3,
   "metadata": {},
   "outputs": [
    {
     "name": "stdout",
     "output_type": "stream",
     "text": [
      "Configuration file configs/test.conf is found and has content.\n",
      "Sections found in config: ['EXPERIMENT', 'TESTS']\n",
      "Keys in section 'EXPERIMENT': ['batch_size', 'height', 'width', 'imgs', 'pth_file', 'experiment_name', 'base_directory', 'device', 'tn', 'tf', 'nb_epochs', 'lr', 'gamma', 'nb_bins', 'ensembles']\n",
      "Keys in section 'TESTS': ['single_test', 'single_test_anomaly_imgs', 'max_anomaly_images', 'step_size', 'max_radius', 'radius_step']\n",
      "current folder: set20\n",
      "current folder: set30\n",
      "current folder: set25\n",
      "current folder: set0\n",
      "current folder: set5\n",
      "current folder: set15\n",
      "current folder: set10\n",
      "Loaded M0.pth successfully.\n",
      "Loaded M0.pth successfully.\n",
      "Loaded M0.pth successfully.\n",
      "Loaded M0.pth successfully.\n",
      "Loaded M0.pth successfully.\n",
      "Loaded M0.pth successfully.\n",
      "Loaded M0.pth successfully.\n"
     ]
    }
   ],
   "source": [
    "# Example usage:\n",
    "device='cuda'\n",
    "config_path = 'configs/test.conf'  # Path to the config file\n",
    "\n",
    "# Load the models for the specified experiment\n",
    "models_dict = load_experiment_models(config_path, device=device)"
   ]
  },
  {
   "cell_type": "code",
   "execution_count": 6,
   "metadata": {},
   "outputs": [
    {
     "name": "stderr",
     "output_type": "stream",
     "text": [
      "/home/eherrin@ad.ufl.edu/anaconda3/envs/nerf3Dchange/lib/python3.12/site-packages/torch/functional.py:512: UserWarning: torch.meshgrid: in an upcoming release, it will be required to pass the indexing argument. (Triggered internally at ../aten/src/ATen/native/TensorShape.cpp:3587.)\n",
      "  return _VF.meshgrid(tensors, **kwargs)  # type: ignore[attr-defined]\n"
     ]
    }
   ],
   "source": [
    "# extracting the densities\n",
    "N = 100\n",
    "scale = 1.5\n",
    "\n",
    "x = torch.linspace(-scale, scale, N)\n",
    "y = torch.linspace(-scale, scale, N)\n",
    "z = torch.linspace(-scale, scale, N)\n",
    "\n",
    "x, y, z = torch.meshgrid((x, y, z))\n",
    "\n",
    "xyz = torch.cat((x.reshape(-1, 1),\n",
    "                 y.reshape(-1, 1),\n",
    "                 z.reshape(-1, 1)), dim=1)"
   ]
  },
  {
   "cell_type": "code",
   "execution_count": 7,
   "metadata": {},
   "outputs": [],
   "source": [
    "# arithmetic mean of each point (x,y,z) in our 3D grid\n",
    "densities = []\n",
    "for model in models_dict['set0']:\n",
    "\n",
    "    with torch.no_grad():\n",
    "        _, density = model.forward(xyz.to(device), torch.zeros_like(xyz).to(device))\n",
    "    \n",
    "    #density = density.cpu().numpy().reshape(N, N, N)\n",
    "    density = density.view(N, N, N)\n",
    "    densities.append(density)\n",
    "\n",
    "densities_tensor = torch.stack(densities)\n",
    "mean_density = torch.mean(densities_tensor, dim=0) # calculates the arithmetic mean for every point"
   ]
  },
  {
   "cell_type": "code",
   "execution_count": 8,
   "metadata": {},
   "outputs": [],
   "source": [
    "# for all densities across the 7 models, substract the model density from the mean\n",
    "squared_diffs = []\n",
    "\n",
    "for model_density in densities: # for each model, subtact the mean density from each element.\n",
    "\n",
    "    squared_diffs.append(torch.square(torch.sub(model_density, mean_density))) # squared diffference for all points\n",
    "\n",
    "tensor_sum = torch.sum(torch.stack(squared_diffs), dim=0)\n",
    "divisor = len(models_dict['set0']) - 1\n",
    "sample_variance = torch.div(tensor_sum, divisor)\n",
    "coeff_variation = torch.div(torch.sqrt(sample_variance), mean_density)"
   ]
  },
  {
   "cell_type": "code",
   "execution_count": 10,
   "metadata": {},
   "outputs": [
    {
     "ename": "AttributeError",
     "evalue": "'numpy.ndarray' object has no attribute 'cpu'",
     "output_type": "error",
     "traceback": [
      "\u001b[0;31m---------------------------------------------------------------------------\u001b[0m",
      "\u001b[0;31mAttributeError\u001b[0m                            Traceback (most recent call last)",
      "Cell \u001b[0;32mIn[10], line 1\u001b[0m\n\u001b[0;32m----> 1\u001b[0m coeff_variation \u001b[38;5;241m=\u001b[39m \u001b[43mcoeff_variation\u001b[49m\u001b[38;5;241;43m.\u001b[39;49m\u001b[43mcpu\u001b[49m()\u001b[38;5;241m.\u001b[39mnumpy()\u001b[38;5;241m.\u001b[39mreshape(N, N, N)\n\u001b[1;32m      2\u001b[0m sample_variance \u001b[38;5;241m=\u001b[39m sample_variance\u001b[38;5;241m.\u001b[39mcpu()\u001b[38;5;241m.\u001b[39mnumpy()\u001b[38;5;241m.\u001b[39mreshape(N, N, N)\n\u001b[1;32m      3\u001b[0m sf_mean_density \u001b[38;5;241m=\u001b[39m mean_density\u001b[38;5;241m.\u001b[39mcpu()\u001b[38;5;241m.\u001b[39mnumpy()\u001b[38;5;241m.\u001b[39mreshape(N, N, N)\n",
      "\u001b[0;31mAttributeError\u001b[0m: 'numpy.ndarray' object has no attribute 'cpu'"
     ]
    }
   ],
   "source": [
    "coeff_variation = coeff_variation.cpu().numpy().reshape(N, N, N)\n",
    "sample_variance = sample_variance.cpu().numpy().reshape(N, N, N)\n",
    "sf_mean_density = mean_density.cpu().numpy().reshape(N, N, N)"
   ]
  },
  {
   "cell_type": "code",
   "execution_count": 11,
   "metadata": {},
   "outputs": [
    {
     "name": "stderr",
     "output_type": "stream",
     "text": [
      "/home/eherrin@ad.ufl.edu/anaconda3/envs/nerf3Dchange/lib/python3.12/site-packages/pyvista/utilities/helpers.py:507: UserWarning: Points is not a float type. This can cause issues when transforming or applying filters. Casting to ``np.float32``. Disable this by passing ``force_float=False``.\n",
      "  warnings.warn(\n"
     ]
    },
    {
     "data": {
      "application/vnd.jupyter.widget-view+json": {
       "model_id": "06a7d39f9155456aa49848ad7fc6388d",
       "version_major": 2,
       "version_minor": 0
      },
      "text/plain": [
       "ViewInteractiveWidget(height=768, layout=Layout(height='auto', width='100%'), width=1024)"
      ]
     },
     "metadata": {},
     "output_type": "display_data"
    }
   ],
   "source": [
    "pts, values = uncertainty_plot(scalar_field = sf_mean_density, scalars=None, pts=None, threshold=10)"
   ]
  },
  {
   "cell_type": "code",
   "execution_count": 12,
   "metadata": {},
   "outputs": [],
   "source": [
    "from scipy.spatial import KDTree\n",
    "\n",
    "# Note: neighbor idx returns the index in the array of all pts of the neighbors.\n",
    "map_tree = KDTree(pts)\n",
    "neighbor_idx = map_tree.query_ball_point(x=pts, r=4) # returns list of indices of neighbors of x"
   ]
  },
  {
   "cell_type": "code",
   "execution_count": 16,
   "metadata": {},
   "outputs": [],
   "source": [
    "CoV = [] # list of coefficent of variation for each point based on variation of neighbor densities\n",
    "for i in range(len(neighbor_idx)):\n",
    "    neighbors = neighbor_idx[i] # [len(neighbors of that point)]\n",
    "\n",
    "    surrounding_densities = [] # reinit list of neighbor for each point in the nerf\n",
    "    for j in range(len(neighbors)):\n",
    "        surrounding_densities.append(values[neighbors[j]]) # [n] densitity at each index in neighbors\n",
    "\n",
    "    densities_tensor = torch.Tensor(surrounding_densities)\n",
    "    mean_density = torch.mean(densities_tensor, dim=0) # calculates the arithmetic mean for every point\n",
    "\n",
    "    squared_diffs = []\n",
    "    for d in densities_tensor: # for each point, subtact the mean density from each element.\n",
    "\n",
    "        squared_diffs.append(torch.square(torch.sub(d, mean_density))) # squared diffference for all points\n",
    "    \n",
    "    tensor_sum = torch.sum(torch.stack(squared_diffs), dim=0)\n",
    "    divisor = len(models_dict['set0']) - .9999\n",
    "    sample_variance = torch.div(tensor_sum, divisor)\n",
    "    coeff_variation = torch.div(torch.sqrt(sample_variance), mean_density)\n",
    "    CoV.append(coeff_variation)\n",
    "    "
   ]
  },
  {
   "cell_type": "code",
   "execution_count": 17,
   "metadata": {},
   "outputs": [
    {
     "name": "stderr",
     "output_type": "stream",
     "text": [
      "/home/eherrin@ad.ufl.edu/anaconda3/envs/nerf3Dchange/lib/python3.12/site-packages/pyvista/utilities/helpers.py:507: UserWarning: Points is not a float type. This can cause issues when transforming or applying filters. Casting to ``np.float32``. Disable this by passing ``force_float=False``.\n",
      "  warnings.warn(\n"
     ]
    },
    {
     "data": {
      "application/vnd.jupyter.widget-view+json": {
       "model_id": "47a716a77da94cc390387b8d60a82e18",
       "version_major": 2,
       "version_minor": 0
      },
      "text/plain": [
       "ViewInteractiveWidget(height=768, layout=Layout(height='auto', width='100%'), width=1024)"
      ]
     },
     "metadata": {},
     "output_type": "display_data"
    },
    {
     "data": {
      "text/plain": [
       "0"
      ]
     },
     "execution_count": 17,
     "metadata": {},
     "output_type": "execute_result"
    }
   ],
   "source": [
    "uncertainty_plot(scalar_field=None, scalars=np.array(CoV), pts=pts, threshold=3.5)"
   ]
  },
  {
   "cell_type": "code",
   "execution_count": 20,
   "metadata": {},
   "outputs": [],
   "source": [
    "object_mask = np.load('monkey_mask.npy') # [3,len(points)]\n",
    "x_coords, y_coords, z_coords = object_mask\n",
    "mask_pts = np.stack((x_coords, y_coords, z_coords), axis=-1)"
   ]
  },
  {
   "cell_type": "code",
   "execution_count": 21,
   "metadata": {},
   "outputs": [
    {
     "ename": "IndexError",
     "evalue": "index 6967 is out of bounds for axis 0 with size 6967",
     "output_type": "error",
     "traceback": [
      "\u001b[0;31m---------------------------------------------------------------------------\u001b[0m",
      "\u001b[0;31mIndexError\u001b[0m                                Traceback (most recent call last)",
      "Cell \u001b[0;32mIn[21], line 1\u001b[0m\n\u001b[0;32m----> 1\u001b[0m \u001b[43muncertainty_plot\u001b[49m\u001b[43m(\u001b[49m\u001b[43mscalar_field\u001b[49m\u001b[38;5;241;43m=\u001b[39;49m\u001b[38;5;28;43;01mNone\u001b[39;49;00m\u001b[43m,\u001b[49m\u001b[43m \u001b[49m\u001b[43mscalars\u001b[49m\u001b[38;5;241;43m=\u001b[39;49m\u001b[43mnp\u001b[49m\u001b[38;5;241;43m.\u001b[39;49m\u001b[43marray\u001b[49m\u001b[43m(\u001b[49m\u001b[43mCoV\u001b[49m\u001b[43m)\u001b[49m\u001b[43m,\u001b[49m\u001b[43m \u001b[49m\u001b[43mpts\u001b[49m\u001b[38;5;241;43m=\u001b[39;49m\u001b[43mmask_pts\u001b[49m\u001b[43m,\u001b[49m\u001b[43m \u001b[49m\u001b[43mthreshold\u001b[49m\u001b[38;5;241;43m=\u001b[39;49m\u001b[38;5;241;43m3.5\u001b[39;49m\u001b[43m)\u001b[49m\n",
      "File \u001b[0;32m~/code/gitlab_dev/nerf-3D-change/tools.py:163\u001b[0m, in \u001b[0;36muncertainty_plot\u001b[0;34m(scalar_field, scalars, pts, only_mask, threshold)\u001b[0m\n\u001b[1;32m    160\u001b[0m output_array \u001b[38;5;241m=\u001b[39m np\u001b[38;5;241m.\u001b[39mzeros((\u001b[38;5;241m100\u001b[39m, \u001b[38;5;241m100\u001b[39m, \u001b[38;5;241m100\u001b[39m))\n\u001b[1;32m    162\u001b[0m \u001b[38;5;28;01mfor\u001b[39;00m i, (x, y, z) \u001b[38;5;129;01min\u001b[39;00m \u001b[38;5;28menumerate\u001b[39m(pts):\n\u001b[0;32m--> 163\u001b[0m     output_array[x, y, z] \u001b[38;5;241m=\u001b[39m \u001b[43mscalars\u001b[49m\u001b[43m[\u001b[49m\u001b[43mi\u001b[49m\u001b[43m]\u001b[49m\n\u001b[1;32m    165\u001b[0m \u001b[38;5;66;03m# Create a PyVista Plotter\u001b[39;00m\n\u001b[1;32m    166\u001b[0m plotter \u001b[38;5;241m=\u001b[39m pv\u001b[38;5;241m.\u001b[39mPlotter(title\u001b[38;5;241m=\u001b[39m\u001b[38;5;124m\"\u001b[39m\u001b[38;5;124mmy plot\u001b[39m\u001b[38;5;124m\"\u001b[39m)\n",
      "\u001b[0;31mIndexError\u001b[0m: index 6967 is out of bounds for axis 0 with size 6967"
     ]
    }
   ],
   "source": [
    "uncertainty_plot(scalar_field=None, scalars=np.array(CoV), pts=mask_pts, threshold=3.5)"
   ]
  }
 ],
 "metadata": {
  "kernelspec": {
   "display_name": "nerf3Dchange",
   "language": "python",
   "name": "python3"
  },
  "language_info": {
   "codemirror_mode": {
    "name": "ipython",
    "version": 3
   },
   "file_extension": ".py",
   "mimetype": "text/x-python",
   "name": "python",
   "nbconvert_exporter": "python",
   "pygments_lexer": "ipython3",
   "version": "3.12.3"
  }
 },
 "nbformat": 4,
 "nbformat_minor": 2
}
